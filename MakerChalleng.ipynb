{
  "nbformat": 4,
  "nbformat_minor": 0,
  "metadata": {
    "colab": {
      "provenance": [],
      "include_colab_link": true
    },
    "kernelspec": {
      "name": "python3",
      "display_name": "Python 3"
    },
    "language_info": {
      "name": "python"
    }
  },
  "cells": [
    {
      "cell_type": "markdown",
      "metadata": {
        "id": "view-in-github",
        "colab_type": "text"
      },
      "source": [
        "<a href=\"https://colab.research.google.com/github/itsvaleriatafoya/learn-github/blob/master/MakerChalleng.ipynb\" target=\"_parent\"><img src=\"https://colab.research.google.com/assets/colab-badge.svg\" alt=\"Open In Colab\"/></a>"
      ]
    },
    {
      "cell_type": "markdown",
      "metadata": {
        "id": "FHJJ_r4elp7R"
      },
      "source": [
        "# Proyecto Makers para describir Imágenes \n",
        "###            (usando Azure Computer Vision)\n",
        "\n",
        "\n",
        "\n",
        "\n"
      ]
    },
    {
      "cell_type": "markdown",
      "metadata": {
        "id": "xg2Z1s7Rl0iW"
      },
      "source": [
        "## Instale el SDK de Computer Vision"
      ]
    },
    {
      "cell_type": "code",
      "metadata": {
        "colab": {
          "base_uri": "https://localhost:8080/"
        },
        "id": "7ecSGAoNlotq",
        "outputId": "4a0f3f4d-b61c-487b-df2d-b177a4dfdd0b"
      },
      "source": [
        "!pip install --upgrade azure-cognitiveservices-vision-computervision"
      ],
      "execution_count": null,
      "outputs": [
        {
          "output_type": "stream",
          "name": "stdout",
          "text": [
            "Looking in indexes: https://pypi.org/simple, https://us-python.pkg.dev/colab-wheels/public/simple/\n",
            "Requirement already satisfied: azure-cognitiveservices-vision-computervision in /usr/local/lib/python3.10/dist-packages (0.9.0)\n",
            "Requirement already satisfied: msrest>=0.5.0 in /usr/local/lib/python3.10/dist-packages (from azure-cognitiveservices-vision-computervision) (0.7.1)\n",
            "Requirement already satisfied: azure-common~=1.1 in /usr/local/lib/python3.10/dist-packages (from azure-cognitiveservices-vision-computervision) (1.1.28)\n",
            "Requirement already satisfied: azure-core>=1.24.0 in /usr/local/lib/python3.10/dist-packages (from msrest>=0.5.0->azure-cognitiveservices-vision-computervision) (1.26.4)\n",
            "Requirement already satisfied: certifi>=2017.4.17 in /usr/local/lib/python3.10/dist-packages (from msrest>=0.5.0->azure-cognitiveservices-vision-computervision) (2022.12.7)\n",
            "Requirement already satisfied: isodate>=0.6.0 in /usr/local/lib/python3.10/dist-packages (from msrest>=0.5.0->azure-cognitiveservices-vision-computervision) (0.6.1)\n",
            "Requirement already satisfied: requests-oauthlib>=0.5.0 in /usr/local/lib/python3.10/dist-packages (from msrest>=0.5.0->azure-cognitiveservices-vision-computervision) (1.3.1)\n",
            "Requirement already satisfied: requests~=2.16 in /usr/local/lib/python3.10/dist-packages (from msrest>=0.5.0->azure-cognitiveservices-vision-computervision) (2.27.1)\n",
            "Requirement already satisfied: six>=1.11.0 in /usr/local/lib/python3.10/dist-packages (from azure-core>=1.24.0->msrest>=0.5.0->azure-cognitiveservices-vision-computervision) (1.16.0)\n",
            "Requirement already satisfied: typing-extensions>=4.3.0 in /usr/local/lib/python3.10/dist-packages (from azure-core>=1.24.0->msrest>=0.5.0->azure-cognitiveservices-vision-computervision) (4.5.0)\n",
            "Requirement already satisfied: urllib3<1.27,>=1.21.1 in /usr/local/lib/python3.10/dist-packages (from requests~=2.16->msrest>=0.5.0->azure-cognitiveservices-vision-computervision) (1.26.15)\n",
            "Requirement already satisfied: charset-normalizer~=2.0.0 in /usr/local/lib/python3.10/dist-packages (from requests~=2.16->msrest>=0.5.0->azure-cognitiveservices-vision-computervision) (2.0.12)\n",
            "Requirement already satisfied: idna<4,>=2.5 in /usr/local/lib/python3.10/dist-packages (from requests~=2.16->msrest>=0.5.0->azure-cognitiveservices-vision-computervision) (3.4)\n",
            "Requirement already satisfied: oauthlib>=3.0.0 in /usr/local/lib/python3.10/dist-packages (from requests-oauthlib>=0.5.0->msrest>=0.5.0->azure-cognitiveservices-vision-computervision) (3.2.2)\n"
          ]
        }
      ]
    },
    {
      "cell_type": "markdown",
      "metadata": {
        "id": "3AmldeQYmURh"
      },
      "source": [
        "## Importamos las bibliotecas"
      ]
    },
    {
      "cell_type": "code",
      "metadata": {
        "id": "Xf-NvBfclgfb"
      },
      "source": [
        "from azure.cognitiveservices.vision.computervision import ComputerVisionClient\n",
        "from msrest.authentication import CognitiveServicesCredentials"
      ],
      "execution_count": null,
      "outputs": []
    },
    {
      "cell_type": "markdown",
      "metadata": {
        "id": "HZti4GH5lnH5"
      },
      "source": [
        "## Asignamos las credenciales\n",
        "---\n",
        "\n"
      ]
    },
    {
      "cell_type": "code",
      "metadata": {
        "id": "w_NUV-sMmpSY"
      },
      "source": [
        "key='d76a294f6bbf4b3cb2af4491ac16268e'\n",
        "endpoint= 'https://valeria.cognitiveservices.azure.com/'"
      ],
      "execution_count": null,
      "outputs": []
    },
    {
      "cell_type": "markdown",
      "metadata": {
        "id": "-vJRwRqRmyQ5"
      },
      "source": [
        "## Autenticamos el cliente con nuestras credenciales"
      ]
    },
    {
      "cell_type": "code",
      "metadata": {
        "id": "xyu_SnT2mvya"
      },
      "source": [
        "client = ComputerVisionClient(endpoint, CognitiveServicesCredentials(key))"
      ],
      "execution_count": null,
      "outputs": []
    },
    {
      "cell_type": "markdown",
      "metadata": {
        "id": "gcVqDgsCm_dB"
      },
      "source": [
        "## Definimos la imagen que queremos utilizar"
      ]
    },
    {
      "cell_type": "code",
      "metadata": {
        "id": "q9kJpGZrm6Pr"
      },
      "source": [
        "burj = 'https://unsplash.com/es/fotos/7ken2lBmCiQ'"
      ],
      "execution_count": null,
      "outputs": []
    },
    {
      "cell_type": "markdown",
      "metadata": {
        "id": "NY1VfI43nSGB"
      },
      "source": [
        "## Creamos un objeto que contenga la descripción de nuestra imagen"
      ]
    },
    {
      "cell_type": "code",
      "metadata": {
        "id": "9Aiw6zr9nQ5C"
      },
      "source": [
        "describe = client.describe_image(burj)"
      ],
      "execution_count": null,
      "outputs": []
    },
    {
      "cell_type": "markdown",
      "metadata": {
        "id": "pfra-1M7ngNw"
      },
      "source": [
        "## Listamos los atributos y métodos que contiene"
      ]
    },
    {
      "cell_type": "code",
      "metadata": {
        "colab": {
          "base_uri": "https://localhost:8080/"
        },
        "id": "vT-GuaEhneEk",
        "outputId": "2d38f9fb-0c0a-4dbe-baff-62341aa59667"
      },
      "source": [
        "dir(describe)"
      ],
      "execution_count": null,
      "outputs": [
        {
          "output_type": "execute_result",
          "data": {
            "text/plain": [
              "['__class__',\n",
              " '__delattr__',\n",
              " '__dict__',\n",
              " '__dir__',\n",
              " '__doc__',\n",
              " '__eq__',\n",
              " '__format__',\n",
              " '__ge__',\n",
              " '__getattribute__',\n",
              " '__gt__',\n",
              " '__hash__',\n",
              " '__init__',\n",
              " '__init_subclass__',\n",
              " '__le__',\n",
              " '__lt__',\n",
              " '__module__',\n",
              " '__ne__',\n",
              " '__new__',\n",
              " '__reduce__',\n",
              " '__reduce_ex__',\n",
              " '__repr__',\n",
              " '__setattr__',\n",
              " '__sizeof__',\n",
              " '__str__',\n",
              " '__subclasshook__',\n",
              " '__weakref__',\n",
              " '_attribute_map',\n",
              " '_classify',\n",
              " '_create_xml_node',\n",
              " '_flatten_subtype',\n",
              " '_get_rest_key_parts',\n",
              " '_infer_class_models',\n",
              " '_subtype_map',\n",
              " '_validation',\n",
              " 'additional_properties',\n",
              " 'as_dict',\n",
              " 'captions',\n",
              " 'deserialize',\n",
              " 'enable_additional_properties_sending',\n",
              " 'from_dict',\n",
              " 'is_xml_model',\n",
              " 'metadata',\n",
              " 'model_version',\n",
              " 'request_id',\n",
              " 'serialize',\n",
              " 'tags',\n",
              " 'validate']"
            ]
          },
          "metadata": {},
          "execution_count": 30
        }
      ]
    },
    {
      "cell_type": "markdown",
      "metadata": {
        "id": "lmX1CmqOntOR"
      },
      "source": [
        "## Accedemos a las etiquetas 'Tags' que describen a nuestra imagen"
      ]
    },
    {
      "cell_type": "code",
      "metadata": {
        "colab": {
          "base_uri": "https://localhost:8080/"
        },
        "id": "54LVihaGnnXi",
        "outputId": "65b6fb1f-2864-4d5c-cf4b-785dcaa3c37a"
      },
      "source": [
        "describe.tags"
      ],
      "execution_count": null,
      "outputs": [
        {
          "output_type": "execute_result",
          "data": {
            "text/plain": [
              "['outdoor',\n",
              " 'water',\n",
              " 'tower',\n",
              " 'building',\n",
              " 'night',\n",
              " 'lit',\n",
              " 'background',\n",
              " 'tall',\n",
              " 'skyscraper']"
            ]
          },
          "metadata": {},
          "execution_count": 31
        }
      ]
    },
    {
      "cell_type": "markdown",
      "metadata": {
        "id": "dtntjSCzn5CB"
      },
      "source": [
        "## Describimos la imagen con un análisis"
      ]
    },
    {
      "cell_type": "code",
      "metadata": {
        "colab": {
          "base_uri": "https://localhost:8080/"
        },
        "id": "1T6aQaHEnz5a",
        "outputId": "67f3db1d-ec04-4185-b3df-5383fec4ad35"
      },
      "source": [
        "for caption in describe.captions:\n",
        "  print(caption.text, caption.confidence)"
      ],
      "execution_count": null,
      "outputs": [
        {
          "output_type": "stream",
          "name": "stdout",
          "text": [
            "a tall building with lights at night with Burj Khalifa in the background 0.4503771960735321\n"
          ]
        }
      ]
    },
    {
      "cell_type": "markdown",
      "metadata": {
        "id": "LKMRe5P4oLkC"
      },
      "source": [
        "## Detectamos los objetos en la imagen"
      ]
    },
    {
      "cell_type": "code",
      "metadata": {
        "id": "G0s5C_XpoGET"
      },
      "source": [
        "detect = client.detect_objects(burj)"
      ],
      "execution_count": null,
      "outputs": []
    },
    {
      "cell_type": "markdown",
      "metadata": {
        "id": "VTiGbTKaodCZ"
      },
      "source": [
        "## Dibujamos un rectangulo en el objeto"
      ]
    },
    {
      "cell_type": "code",
      "metadata": {
        "colab": {
          "base_uri": "https://localhost:8080/"
        },
        "id": "EAtW2YDvoTW7",
        "outputId": "13c2e137-8d44-4cb0-e535-b81771834d22"
      },
      "source": [
        "for obj in detect.objects:\n",
        "  print(obj.object_property, obj.rectangle)"
      ],
      "execution_count": null,
      "outputs": [
        {
          "output_type": "stream",
          "name": "stdout",
          "text": [
            "building {'additional_properties': {}, 'x': 1480, 'y': 2361, 'w': 374, 'h': 1176}\n"
          ]
        }
      ]
    },
    {
      "cell_type": "code",
      "metadata": {
        "id": "sM8NgUNOorP7"
      },
      "source": [
        "landmarks = client.analyze_image_by_domain('landmarks', burj)"
      ],
      "execution_count": null,
      "outputs": []
    },
    {
      "cell_type": "code",
      "metadata": {
        "id": "Cv-Ns7QBo7_S",
        "outputId": "8cb54f1d-8d2c-4d33-cb7c-86d9520821f0",
        "colab": {
          "base_uri": "https://localhost:8080/"
        }
      },
      "source": [
        "landmarks.result"
      ],
      "execution_count": null,
      "outputs": [
        {
          "output_type": "execute_result",
          "data": {
            "text/plain": [
              "{'landmarks': [{'name': 'Burj Khalifa', 'confidence': 0.9453772902488708}]}"
            ]
          },
          "metadata": {},
          "execution_count": 36
        }
      ]
    },
    {
      "cell_type": "code",
      "metadata": {
        "id": "1927mLs8o-xL"
      },
      "source": [],
      "execution_count": null,
      "outputs": []
    }
  ]
}